{
  "cells": [
    {
      "cell_type": "markdown",
      "metadata": {
        "id": "view-in-github",
        "colab_type": "text"
      },
      "source": [
        "<a href=\"https://colab.research.google.com/github/Ima406/2024_Geoinformatique_I/blob/main/Geoinformatique_I/IP/Exercices_IP/S2_IP_exercice.ipynb\" target=\"_parent\"><img src=\"https://colab.research.google.com/assets/colab-badge.svg\" alt=\"Open In Colab\"/></a>"
      ]
    },
    {
      "cell_type": "markdown",
      "metadata": {
        "id": "ZXnjONpwCaJ5"
      },
      "source": [
        "# Exercice 2 - Structure de contrôle"
      ]
    },
    {
      "cell_type": "markdown",
      "metadata": {
        "id": "OyMIBjQrCaJ6"
      },
      "source": [
        "## Conditions if, else, elif"
      ]
    },
    {
      "cell_type": "markdown",
      "metadata": {
        "id": "caKuJ59zjW39"
      },
      "source": [
        "**1. Vérification de la parité**"
      ]
    },
    {
      "cell_type": "code",
      "source": [
        "num1 = int(input( 'nombre 1 est '))\n",
        "num2 = int(input( 'nombre 2 est '))\n",
        "num3 = int(input( 'nombre 3 est '))\n",
        "if num1 > num2 and num1>num3:\n",
        "           print('le nombre le plus grand est',num1)\n",
        "elif num2>num1 and num2>num3:\n",
        "           print('Le nombre le plus grand est',num2)\n",
        "elif num3>num2 and num3>num1:\n",
        "           print('le nombre le plus grand est',num3)"
      ],
      "metadata": {
        "id": "X-Y87Gr3ykgW",
        "outputId": "f3abbfe5-3f93-497f-db7b-1685f304eb2a",
        "colab": {
          "base_uri": "https://localhost:8080/"
        }
      },
      "execution_count": null,
      "outputs": [
        {
          "output_type": "stream",
          "name": "stdout",
          "text": [
            "nombre 1 est 774\n",
            "nombre 2 est 6776\n",
            "nombre 3 est 939\n",
            "Le nombre le plus grand est 6776\n"
          ]
        }
      ]
    },
    {
      "cell_type": "code",
      "source": [
        "num = int(input(' le nombre est'))\n",
        "if num % 3== 0 and num % 13 == 0:\n",
        "  print(num,'est divisible par 3 et 13')\n",
        "else:\n",
        "  print(num,'n est pas divisible par 3 et 13')\n"
      ],
      "metadata": {
        "id": "MZhY2YCGy0jW",
        "outputId": "f12e1149-4492-425d-e8c1-96d77bc3cb3e",
        "colab": {
          "base_uri": "https://localhost:8080/"
        }
      },
      "execution_count": null,
      "outputs": [
        {
          "output_type": "stream",
          "name": "stdout",
          "text": [
            " le nombre est39\n",
            "39 est divisible par 3 et 13\n"
          ]
        }
      ]
    },
    {
      "cell_type": "code",
      "execution_count": null,
      "metadata": {
        "id": "wkrwV1yvjW3-",
        "outputId": "363e0273-0d35-4d8c-8a8a-889d866998b6",
        "colab": {
          "base_uri": "https://localhost:8080/"
        }
      },
      "outputs": [
        {
          "output_type": "stream",
          "name": "stdout",
          "text": [
            "Pair\n"
          ]
        }
      ],
      "source": [
        "# Ecrivez votre code ici\n",
        "nombre = 40 #Entrez un nombre entier\n",
        "\n",
        "if nombre % 2 == 0 :\n",
        "    print(\"Pair\")\n",
        "else:\n",
        "    print(\"Impaire\")"
      ]
    },
    {
      "cell_type": "code",
      "source": [
        "mot= input(' écrit ton mot, je te dirais s il y a des voyelles')# le== veux dire que mot est l égalité\n",
        "if mot=='a' or mot=='e'or mot=='i'or mot=='o'or mot=='u':\n",
        "    print('il y a des voyelles dans', mot)\n",
        "else:\n",
        "  print('il y a des consonnes')"
      ],
      "metadata": {
        "id": "OdN8TM7X01Og",
        "outputId": "88bc69f9-82d0-41fa-8cfd-2bbd5f9a7ad4",
        "colab": {
          "base_uri": "https://localhost:8080/"
        }
      },
      "execution_count": null,
      "outputs": [
        {
          "output_type": "stream",
          "name": "stdout",
          "text": [
            " écrit ton mot, je te dirais s il y a des voyellesa\n",
            "il y a des voyelles dans a\n"
          ]
        }
      ]
    },
    {
      "cell_type": "code",
      "source": [
        "jour = int(input('quel jour nous somme'))  #il faut bien mettre deux = sinon il va pas comprendre\n",
        "if jour == 1:\n",
        "  print('il est lundi')\n",
        "else:\n",
        "  print('flemme de répète')\n"
      ],
      "metadata": {
        "id": "6RivA3f4k3T8",
        "outputId": "31c10f21-9d77-49f2-b8d3-d8232a02a9d0",
        "colab": {
          "base_uri": "https://localhost:8080/"
        }
      },
      "execution_count": null,
      "outputs": [
        {
          "output_type": "stream",
          "name": "stdout",
          "text": [
            "quel jour nous somme7\n",
            "flemme de répète\n"
          ]
        }
      ]
    },
    {
      "cell_type": "code",
      "source": [
        "Prixf = int(input('Le prix de fabrication est '))\n",
        "Prixv = int(input('Le prix de vente est à '))\n",
        "if Prixf>Prixv:\n",
        "  perte= Prixf-Prixv\n",
        "  print('vous faites une perte de ', perte, '$')\n",
        "elif Prixv>Prixf:\n",
        "  gain = Prixv-Prixf\n",
        "  print('vous faites un bénéfice de ', gain, '$')"
      ],
      "metadata": {
        "id": "0NujPCMpl9pF",
        "outputId": "633697d0-4f2d-46ae-b70c-09be5dcf0757",
        "colab": {
          "base_uri": "https://localhost:8080/"
        }
      },
      "execution_count": null,
      "outputs": [
        {
          "output_type": "stream",
          "name": "stdout",
          "text": [
            "Le prix de fabrication est 90\n",
            "Le prix de vente est à 500\n",
            "vous faites un bénéfice de  410 $\n"
          ]
        }
      ]
    },
    {
      "cell_type": "code",
      "source": [
        "année= int(input('entrer la date'))\n",
        "if année%4==0 and année%100!=0 or année%400==0:\n",
        "  print('l année',année, 'est une année bisextile' )\n",
        "else:\n",
        "  print('année simple')"
      ],
      "metadata": {
        "id": "YL9yaRu0p6tw",
        "outputId": "cdf4312a-f98a-48eb-f60d-53254992aeed",
        "colab": {
          "base_uri": "https://localhost:8080/"
        }
      },
      "execution_count": null,
      "outputs": [
        {
          "output_type": "stream",
          "name": "stdout",
          "text": [
            "entrer la date2024\n",
            "l année 2024 est une année bisextile\n"
          ]
        }
      ]
    },
    {
      "cell_type": "markdown",
      "metadata": {
        "id": "b1goU-5bjW3_"
      },
      "source": [
        "**2. Comparaison de deux nombres**"
      ]
    },
    {
      "cell_type": "code",
      "execution_count": null,
      "metadata": {
        "id": "SkjaBcb-jW3_",
        "outputId": "c166f9ce-0b70-4d06-ae2a-1e1f64767aa8",
        "colab": {
          "base_uri": "https://localhost:8080/"
        }
      },
      "outputs": [
        {
          "output_type": "stream",
          "name": "stdout",
          "text": [
            "Le premier nombre est plus grand.\n"
          ]
        }
      ],
      "source": [
        "nombre1 = 5.5 #Entrez un chiffre à virgule\n",
        "nombre2 = 3 #Entrez un deuxième chiffre à virgule\n",
        "\n",
        "if nombre1 > nombre2:\n",
        "    print(\"Le premier nombre est plus grand.\")\n",
        "elif nombre2 > nombre1:\n",
        "    print(\"Le deuxième nombre est plus grand.\")\n",
        "else:\n",
        "    print(\"Les deux nombres sont égaux\")"
      ]
    },
    {
      "cell_type": "markdown",
      "metadata": {
        "id": "gkNLNNSNjW3_"
      },
      "source": [
        "**3. Catégorisation d'âges**"
      ]
    },
    {
      "cell_type": "code",
      "execution_count": null,
      "metadata": {
        "id": "h1AnFjiKjW4A",
        "outputId": "073d1d56-e1b9-4c28-da21-338bd7242e75",
        "colab": {
          "base_uri": "https://localhost:8080/"
        }
      },
      "outputs": [
        {
          "output_type": "stream",
          "name": "stdout",
          "text": [
            "Adulte\n"
          ]
        }
      ],
      "source": [
        "age = 34 # Entrez un nombre entier\n",
        "if age < 12:\n",
        "    print(\"Enfant\")\n",
        "elif 12 <= age < 18:\n",
        "    print(\"Adolescent\")\n",
        "elif 18 <= age < 65:\n",
        "    print(\"Adulte\")\n",
        "else:\n",
        "    print(\"Senior\")\n"
      ]
    },
    {
      "cell_type": "markdown",
      "metadata": {
        "id": "agjI6dl_CaJ7"
      },
      "source": [
        "## Boucle for et while"
      ]
    },
    {
      "cell_type": "markdown",
      "metadata": {
        "id": "jbGswyVvjW4A"
      },
      "source": [
        "**1. Ecrire une boucle `while` pour afficher les valeurs des classements d'une liste de lecture d'albums stockée dans la liste <code>PlayListRatings</code>. Si le score est inférieur à 6, on sort de la boucle. La liste <code>PlayListRatings</code> est donnée par : <code>PlayListRatings = [10, 9.5, 10, 8, 7.5, 5, 10, 10]</code>**"
      ]
    },
    {
      "cell_type": "code",
      "source": [
        "nombre = int(input('rentrer votre nombre'))\n",
        "for i in range(1,11):\n",
        "  print('le résultat de',i,'x',nombre,'=',i*nombre)"
      ],
      "metadata": {
        "colab": {
          "base_uri": "https://localhost:8080/"
        },
        "id": "9XaLi3lyb6YW",
        "outputId": "fe7dac2c-03b7-4bc0-a8cc-1a11261a70c7"
      },
      "execution_count": 5,
      "outputs": [
        {
          "output_type": "stream",
          "name": "stdout",
          "text": [
            "rentrer votre nombre23\n",
            "le résultat de 1 x 23 = 23\n",
            "le résultat de 2 x 23 = 46\n",
            "le résultat de 3 x 23 = 69\n",
            "le résultat de 4 x 23 = 92\n",
            "le résultat de 5 x 23 = 115\n",
            "le résultat de 6 x 23 = 138\n",
            "le résultat de 7 x 23 = 161\n",
            "le résultat de 8 x 23 = 184\n",
            "le résultat de 9 x 23 = 207\n",
            "le résultat de 10 x 23 = 230\n"
          ]
        }
      ]
    },
    {
      "cell_type": "code",
      "source": [
        "#nombre = int(input('devinez le chiffre entre 1 et 100:'))\n",
        "import random\n",
        "\n",
        "nombresecret= random.randint(1,100)\n",
        "\n",
        "nombre = int(input('devinez le chiffre entre 1 et 100:'))\n",
        "\n",
        "while True:\n",
        "    if nombre<nombresecret:\n",
        "        nombre = int(input('tu est trop bas cherche encore '))\n",
        "        pass\n",
        "    elif nombre>nombresecret:\n",
        "        nombre = int(input('tu es trop haut, cherche encore '))\n",
        "        pass\n",
        "    elif nombre == nombresecret:\n",
        "        print(\"c'est juste\")\n",
        "        break\n",
        "\n"
      ],
      "metadata": {
        "colab": {
          "base_uri": "https://localhost:8080/"
        },
        "id": "AebSSSendmT7",
        "outputId": "af06e1ed-b923-4568-8f49-036aa8c4f009"
      },
      "execution_count": 6,
      "outputs": [
        {
          "output_type": "stream",
          "name": "stdout",
          "text": [
            "devinez le chiffre entre 1 et 100:50\n",
            "tu est trop bas cherche encore 75\n",
            "tu es trop haut, cherche encore 60\n",
            "tu est trop bas cherche encore 65\n",
            "tu est trop bas cherche encore 70\n",
            "tu est trop bas cherche encore 71\n",
            "tu est trop bas cherche encore 72\n",
            "c'est juste\n"
          ]
        }
      ]
    },
    {
      "cell_type": "code",
      "source": [],
      "metadata": {
        "id": "DZmSJjvqdmQi"
      },
      "execution_count": 23,
      "outputs": []
    },
    {
      "cell_type": "code",
      "execution_count": null,
      "metadata": {
        "id": "ploHyFu2jW4A",
        "outputId": "38bd3c12-c946-4194-ec37-e3a32b2f3307",
        "colab": {
          "base_uri": "https://localhost:8080/"
        }
      },
      "outputs": [
        {
          "output_type": "stream",
          "name": "stdout",
          "text": [
            "10\n",
            "9.5\n",
            "10\n",
            "8\n",
            "7.5\n",
            "10\n",
            "6\n",
            "10\n"
          ]
        }
      ],
      "source": [
        "# Ecrivez votre code ici\n",
        "PlayListRating = [10, 9.5, 10, 8, 7.5, 5, 10, 4, 6, 10]\n",
        "\n",
        "# Astuce : Utilisez l'indexation de la liste comme critère (longueur de votre liste)\n",
        "indx = 0 #ici la liste doit commencer dès le premier élément de la liste\n",
        "while indx<len(PlayListRating):  #ici l'index doit être plus petit que la longueur de la liste car sinon c'est pas possible\n",
        "  if PlayListRating[indx]<6: #si le nombre de P est plus petit que 6 dans dans l'indexation, on passe au nombre suivant\n",
        "    pass\n",
        "  else:\n",
        "    print(PlayListRating[indx]) #le reste doit être listé par la fonction indx\n",
        "  indx+=1 # demande a l'indexation de passé au prochain objet de a liste sinon la boucle n'avance pas\n"
      ]
    },
    {
      "cell_type": "markdown",
      "metadata": {
        "id": "WHXaD4_3jW4A"
      },
      "source": [
        "**2. Répétez ce que vous venez de faire, cette fois en utilisant une boucle `for`**."
      ]
    },
    {
      "cell_type": "code",
      "execution_count": null,
      "metadata": {
        "id": "CIgtC_4zjW4A",
        "outputId": "bc719cae-e500-457d-9010-53802eca533e",
        "colab": {
          "base_uri": "https://localhost:8080/"
        }
      },
      "outputs": [
        {
          "output_type": "stream",
          "name": "stdout",
          "text": [
            "10\n",
            "9.5\n",
            "10\n",
            "8\n",
            "7.5\n",
            "10\n",
            "6\n",
            "10\n"
          ]
        }
      ],
      "source": [
        "for indx in range(len(PlayListRating)):\n",
        "  if PlayListRating[indx]<6:\n",
        "    pass\n",
        "  else:\n",
        "    print(PlayListRating[indx])"
      ]
    },
    {
      "cell_type": "markdown",
      "metadata": {
        "id": "VZQhdaf5jW4B"
      },
      "source": [
        "**3. Ecrivez une boucle `for` qui imprime (affiche) la liste suivante : <code>carres=['rouge', 'jaune', 'vert', 'violet', 'bleu']</code>**"
      ]
    },
    {
      "cell_type": "code",
      "execution_count": null,
      "metadata": {
        "id": "kh8TmInPjW4B",
        "outputId": "ad82fe63-2a6e-4241-a13f-7f9416c65167",
        "colab": {
          "base_uri": "https://localhost:8080/"
        }
      },
      "outputs": [
        {
          "output_type": "stream",
          "name": "stdout",
          "text": [
            "['rouge', 'jaune', 'vert', 'violet', 'bleu']\n"
          ]
        }
      ],
      "source": [
        "carres = [] # An empty list\n",
        "for place,couleur in enumerate(['rouge', 'jaune', 'vert', 'violet', 'bleu']):  # p\n",
        "  carres.append(couleur) # Here you add (append) the elements one by one to the empty list\n",
        "\n",
        "print(carres)"
      ]
    }
  ],
  "metadata": {
    "colab": {
      "provenance": [],
      "include_colab_link": true
    },
    "kernelspec": {
      "display_name": "imports_TM",
      "language": "python",
      "name": "python3"
    },
    "language_info": {
      "name": "python",
      "version": "3.9.18"
    }
  },
  "nbformat": 4,
  "nbformat_minor": 0
}